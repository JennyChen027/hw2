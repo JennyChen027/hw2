{
 "cells": [
  {
   "cell_type": "code",
   "execution_count": 1,
   "metadata": {},
   "outputs": [],
   "source": [
    "import pandas as pd"
   ]
  },
  {
   "cell_type": "code",
   "execution_count": null,
   "metadata": {},
   "outputs": [],
   "source": [
    "def clean_csv(file_path):\n",
    "    # Load the CSV file\n",
    "    df = pd.read_csv(file_path)\n",
    "    \n",
    "    # Standardize column names (lowercase, replace spaces with underscores)\n",
    "    df.columns = df.columns.str.lower().str.replace(' ', '_')\n",
    "    \n",
    "    # Drop duplicates\n",
    "    df = df.drop_duplicates()\n",
    "    \n",
    "    # Handle missing values (fill with median for numerical, mode for categorical)\n",
    "    for col in df.columns:\n",
    "        if df[col].dtype == 'O':  \n",
    "            df[col] = df[col].fillna(df[col].mode()[0])\n",
    "        else:\n",
    "            df[col] = df[col].fillna(df[col].median())\n",
    "    \n",
    "    # Convert data types where applicable\n",
    "    for col in df.columns:\n",
    "        try:\n",
    "            df[col] = pd.to_numeric(df[col])\n",
    "        except ValueError:\n",
    "            pass  \n",
    "    \n",
    "    return df\n",
    "\n"
   ]
  },
  {
   "cell_type": "code",
   "execution_count": 8,
   "metadata": {},
   "outputs": [],
   "source": [
    "clean_avg_price=clean_csv(\"avg_price_data.csv\")\n",
    "clean_avg_price.to_csv(\"clean_avg_price.csv\", index=False)"
   ]
  },
  {
   "cell_type": "code",
   "execution_count": null,
   "metadata": {},
   "outputs": [],
   "source": [
    "#aggregate by year\n",
    "\n",
    "clean_avg_price[\"month\"] = clean_avg_price[\"month\"].astype(str).str[-4:]\n",
    "yearly_avg_df = clean_avg_price.groupby(\"month\", as_index=False).mean()\n",
    "\n"
   ]
  },
  {
   "cell_type": "code",
   "execution_count": 26,
   "metadata": {},
   "outputs": [],
   "source": [
    "yearly_avg_df.to_csv(\"yearly_avg_df.csv\", index=False)"
   ]
  },
  {
   "cell_type": "code",
   "execution_count": 4,
   "metadata": {},
   "outputs": [
    {
     "name": "stdout",
     "output_type": "stream",
     "text": [
      "  observation_date  STTMINWGFG  STTMINWGAK  STTMINWGAR  STTMINWGAZ  \\\n",
      "0       2005-01-01        5.15        7.15        5.15         NaN   \n",
      "1       2006-01-01        5.15        7.15        5.15         NaN   \n",
      "2       2007-01-01        5.15        7.15        6.25        6.75   \n",
      "3       2008-01-01        5.85        7.15        6.25        6.90   \n",
      "4       2009-01-01        6.55        7.15        6.25        7.25   \n",
      "\n",
      "   STTMINWGCA  STTMINWGCO  STTMINWGCT  STTMINWGDE  STTMINWGFL  ...  \\\n",
      "0        6.75        5.15        7.10        6.15         NaN  ...   \n",
      "1        6.75        5.15        7.40        6.15        6.40  ...   \n",
      "2        7.50        6.85        7.65        6.65        6.67  ...   \n",
      "3        8.00        7.02        7.65        7.15        6.79  ...   \n",
      "4        8.00        7.28        8.00        7.15        7.21  ...   \n",
      "\n",
      "   STTMINWGRI  STTMINWGSD  STTMINWGTX  STTMINWGUT  STTMINWGVA  STTMINWGVT  \\\n",
      "0        6.75        5.15        5.15        5.15        5.15        7.00   \n",
      "1        6.75        5.15        5.15        5.15        5.15        7.25   \n",
      "2        7.40        5.15        5.15        5.15        5.15        7.53   \n",
      "3        7.40        5.85        5.85        5.85        5.85        7.68   \n",
      "4        7.40        6.55        6.55        6.55        6.55        8.06   \n",
      "\n",
      "   STTMINWGWA  STTMINWGWI  STTMINWGWV  STTMINWGWY  \n",
      "0        7.35        5.15        5.15        5.15  \n",
      "1        7.63        5.70        5.15        5.15  \n",
      "2        7.93        6.50        5.85        5.15  \n",
      "3        8.07        6.50        6.55        5.15  \n",
      "4        8.55        6.50        7.25        5.15  \n",
      "\n",
      "[5 rows x 47 columns]\n"
     ]
    }
   ],
   "source": [
    "#clean up downloaded data for minimum wage (https://fred.stlouisfed.org/release/tables?rid=387&eid=243906&od=2005-01-01#)\n",
    "\n",
    "file_paths =[\"min_wage1.csv\",\"min_wage2.csv\",\"min_wage3.csv\", \"min_wage4.csv\"]\n",
    "\n",
    "mega_df = pd.read_csv(file_paths[0]).fillna(float('nan'))\n",
    "\n",
    "for file_path in file_paths[1:]:\n",
    "    df = pd.read_csv(file_path).fillna(float('nan'))\n",
    "    mega_df = mega_df.set_index(\"observation_date\").join(df.set_index(\"observation_date\"), how=\"outer\").reset_index()\n",
    "\n",
    "\n",
    "mega_df = mega_df.drop_duplicates()\n",
    "\n",
    "\n",
    "print(mega_df.head())\n"
   ]
  },
  {
   "cell_type": "code",
   "execution_count": 5,
   "metadata": {},
   "outputs": [],
   "source": [
    "#fix column names\n",
    "mega_df.columns = [col.replace(\"STTMINWG\", \"\") if col != \"observation_date\" else col for col in mega_df.columns]\n",
    "mega_df = mega_df.rename(columns={\"FG\": \"federal_minimum\"})"
   ]
  },
  {
   "cell_type": "code",
   "execution_count": 7,
   "metadata": {},
   "outputs": [],
   "source": [
    "#add states with no own laws and copy federal min\n",
    "for state in [\"AL\", \"SC\", \"TN\", \"MS\", \"LA\"]:\n",
    "    mega_df[state] = mega_df[\"federal_minimum\"]\n",
    "\n",
    "#if no value turn into federal min\n",
    "for index, row in mega_df.iterrows():\n",
    "    federal_min = row[\"federal_minimum\"]\n",
    "    mega_df.loc[index] = row.fillna(federal_min)"
   ]
  },
  {
   "cell_type": "code",
   "execution_count": 8,
   "metadata": {},
   "outputs": [],
   "source": [
    "#simplify date\n",
    "mega_df[\"observation_date\"] = mega_df[\"observation_date\"].astype(str).str[:4]\n"
   ]
  },
  {
   "cell_type": "code",
   "execution_count": 9,
   "metadata": {},
   "outputs": [],
   "source": [
    "mega_df.to_csv(\"final_min_wage.csv\", index=False)"
   ]
  },
  {
   "cell_type": "code",
   "execution_count": 10,
   "metadata": {},
   "outputs": [],
   "source": [
    "## create data for heatmap\n",
    "import json\n",
    "\n",
    "wage_data = pd.read_csv(\"final_min_wage.csv\")\n",
    "price_data = pd.read_csv(\"yearly_avg_price.csv\")\n",
    "\n",
    "# Melt data into long format\n",
    "wage_data = wage_data.melt(id_vars=[\"observation_date\"], var_name=\"state\", value_name=\"min_wage\")\n",
    "price_data = price_data.melt(id_vars=[\"month\"], var_name=\"item\", value_name=\"price\")\n",
    "\n",
    "# Merge data\n",
    "data = wage_data.merge(price_data, left_on=\"observation_date\", right_on=\"month\")\n",
    "\n",
    "# Compute purchasing power\n",
    "data[\"purchasing_power\"] = data[\"min_wage\"] / data[\"price\"]\n",
    "\n",
    "#fill nan \n",
    "data.fillna\n",
    "\n",
    "# Save to JSON\n",
    "data = data.to_dict(orient=\"records\")\n",
    "with open(\"data.json\", \"w\") as f:\n",
    "    json.dump(data, f)\n",
    "\n"
   ]
  }
 ],
 "metadata": {
  "kernelspec": {
   "display_name": "base",
   "language": "python",
   "name": "python3"
  },
  "language_info": {
   "codemirror_mode": {
    "name": "ipython",
    "version": 3
   },
   "file_extension": ".py",
   "mimetype": "text/x-python",
   "name": "python",
   "nbconvert_exporter": "python",
   "pygments_lexer": "ipython3",
   "version": "3.8.8"
  }
 },
 "nbformat": 4,
 "nbformat_minor": 2
}
